{
 "cells": [
  {
   "cell_type": "code",
   "execution_count": 1,
   "metadata": {},
   "outputs": [],
   "source": [
    "#!pip install torch"
   ]
  },
  {
   "cell_type": "code",
   "execution_count": 2,
   "metadata": {},
   "outputs": [],
   "source": [
    "import torch"
   ]
  },
  {
   "cell_type": "code",
   "execution_count": 3,
   "metadata": {},
   "outputs": [],
   "source": [
    "#!git clone https://github.com/ultralytics/yolov5"
   ]
  },
  {
   "cell_type": "code",
   "execution_count": 4,
   "metadata": {},
   "outputs": [
    {
     "name": "stdout",
     "output_type": "stream",
     "text": [
      "f:\\Computer vision - Object detection\\yolov5\n"
     ]
    }
   ],
   "source": [
    "%cd yolov5"
   ]
  },
  {
   "cell_type": "code",
   "execution_count": 5,
   "metadata": {},
   "outputs": [],
   "source": [
    "import os\n",
    "import shutil"
   ]
  },
  {
   "cell_type": "code",
   "execution_count": 6,
   "metadata": {},
   "outputs": [],
   "source": [
    "trainpath = 'F:\\Computer vision - Object detection\\Dataset\\Images\\train'\n",
    "valpath = 'F:\\Computer vision - Object detection\\Dataset\\Images\\val'\n",
    "trainlabelpath = 'F:\\Computer vision - Object detection\\Dataset\\Labels\\train'\n",
    "vallabelpath = 'F:\\Computer vision - Object detection\\Dataset\\Labels\\val'\n",
    "images_path = 'F:\\Computer vision - Object detection\\Racoon Images\\images'\n",
    "label_path = 'F:\\Computer vision - Object detection\\image_labels'\n",
    "\n",
    "train_ratio = 0.8\n",
    "val_ratio = 0.2\n",
    "\n",
    "tolal_images = len(os.listdir(images_path))\n",
    "\n",
    "imgs = os.listdir(images_path)\n",
    "labs = os.listdir(label_path)\n",
    "\n",
    "cnttrain = int(tolal_images*0.8)\n",
    "\n",
    "train_images = imgs[:cnttrain]\n",
    "test_images = imgs[cnttrain:]\n",
    "\n",
    "train_labels = labs[:cnttrain]\n",
    "test_labels = labs[cnttrain:]"
   ]
  },
  {
   "cell_type": "code",
   "execution_count": 7,
   "metadata": {},
   "outputs": [
    {
     "name": "stdout",
     "output_type": "stream",
     "text": [
      "Requirement already satisfied: gitpython in c:\\python39\\lib\\site-packages (from -r requirements.txt (line 5)) (3.1.27)\n",
      "Requirement already satisfied: ipython in c:\\python39\\lib\\site-packages (from -r requirements.txt (line 6)) (7.27.0)\n",
      "Requirement already satisfied: matplotlib>=3.2.2 in c:\\python39\\lib\\site-packages (from -r requirements.txt (line 7)) (3.7.0)\n",
      "Requirement already satisfied: numpy>=1.18.5 in c:\\python39\\lib\\site-packages (from -r requirements.txt (line 8)) (1.24.2)\n",
      "Requirement already satisfied: opencv-python>=4.1.1 in c:\\python39\\lib\\site-packages (from -r requirements.txt (line 9)) (4.7.0.68)\n",
      "Requirement already satisfied: Pillow>=7.1.2 in c:\\python39\\lib\\site-packages (from -r requirements.txt (line 10)) (9.4.0)\n",
      "Requirement already satisfied: psutil in c:\\python39\\lib\\site-packages (from -r requirements.txt (line 11)) (5.9.2)\n",
      "Requirement already satisfied: PyYAML>=5.3.1 in c:\\python39\\lib\\site-packages (from -r requirements.txt (line 12)) (6.0)\n",
      "Requirement already satisfied: requests>=2.23.0 in c:\\python39\\lib\\site-packages (from -r requirements.txt (line 13)) (2.26.0)\n",
      "Requirement already satisfied: scipy>=1.4.1 in c:\\python39\\lib\\site-packages (from -r requirements.txt (line 14)) (1.10.0)\n",
      "Requirement already satisfied: thop>=0.1.1 in c:\\python39\\lib\\site-packages (from -r requirements.txt (line 15)) (0.1.1.post2209072238)\n",
      "Requirement already satisfied: torch>=1.7.0 in c:\\python39\\lib\\site-packages (from -r requirements.txt (line 16)) (1.13.1)\n",
      "Requirement already satisfied: torchvision>=0.8.1 in c:\\python39\\lib\\site-packages (from -r requirements.txt (line 17)) (0.14.1)\n",
      "Requirement already satisfied: tqdm>=4.64.0 in c:\\python39\\lib\\site-packages (from -r requirements.txt (line 18)) (4.64.1)\n",
      "Requirement already satisfied: tensorboard>=2.4.1 in c:\\python39\\lib\\site-packages (from -r requirements.txt (line 22)) (2.12.0)\n",
      "Requirement already satisfied: pandas>=1.1.4 in c:\\python39\\lib\\site-packages (from -r requirements.txt (line 27)) (1.5.3)\n",
      "Requirement already satisfied: seaborn>=0.11.0 in c:\\python39\\lib\\site-packages (from -r requirements.txt (line 28)) (0.12.2)\n",
      "Requirement already satisfied: setuptools>=65.5.1 in c:\\python39\\lib\\site-packages (from -r requirements.txt (line 42)) (67.3.1)\n",
      "Requirement already satisfied: wheel>=0.38.0 in c:\\python39\\lib\\site-packages (from -r requirements.txt (line 43)) (0.38.4)\n",
      "Requirement already satisfied: gitdb<5,>=4.0.1 in c:\\python39\\lib\\site-packages (from gitpython->-r requirements.txt (line 5)) (4.0.9)\n",
      "Requirement already satisfied: pygments in c:\\python39\\lib\\site-packages (from ipython->-r requirements.txt (line 6)) (2.10.0)\n",
      "Requirement already satisfied: colorama in c:\\python39\\lib\\site-packages (from ipython->-r requirements.txt (line 6)) (0.4.4)\n",
      "Requirement already satisfied: traitlets>=4.2 in c:\\python39\\lib\\site-packages (from ipython->-r requirements.txt (line 6)) (5.1.0)\n",
      "Requirement already satisfied: pickleshare in c:\\python39\\lib\\site-packages (from ipython->-r requirements.txt (line 6)) (0.7.5)\n",
      "Requirement already satisfied: matplotlib-inline in c:\\python39\\lib\\site-packages (from ipython->-r requirements.txt (line 6)) (0.1.3)\n",
      "Requirement already satisfied: backcall in c:\\python39\\lib\\site-packages (from ipython->-r requirements.txt (line 6)) (0.2.0)\n",
      "Requirement already satisfied: decorator in c:\\python39\\lib\\site-packages (from ipython->-r requirements.txt (line 6)) (5.1.0)\n",
      "Requirement already satisfied: prompt-toolkit!=3.0.0,!=3.0.1,<3.1.0,>=2.0.0 in c:\\python39\\lib\\site-packages (from ipython->-r requirements.txt (line 6)) (3.0.20)\n",
      "Requirement already satisfied: jedi>=0.16 in c:\\python39\\lib\\site-packages (from ipython->-r requirements.txt (line 6)) (0.18.0)\n",
      "Requirement already satisfied: packaging>=20.0 in c:\\python39\\lib\\site-packages (from matplotlib>=3.2.2->-r requirements.txt (line 7)) (21.0)\n",
      "Requirement already satisfied: fonttools>=4.22.0 in c:\\python39\\lib\\site-packages (from matplotlib>=3.2.2->-r requirements.txt (line 7)) (4.38.0)\n",
      "Requirement already satisfied: kiwisolver>=1.0.1 in c:\\python39\\lib\\site-packages (from matplotlib>=3.2.2->-r requirements.txt (line 7)) (1.4.4)\n",
      "Requirement already satisfied: cycler>=0.10 in c:\\python39\\lib\\site-packages (from matplotlib>=3.2.2->-r requirements.txt (line 7)) (0.11.0)\n",
      "Requirement already satisfied: pyparsing>=2.3.1 in c:\\python39\\lib\\site-packages (from matplotlib>=3.2.2->-r requirements.txt (line 7)) (2.4.7)\n",
      "Requirement already satisfied: importlib-resources>=3.2.0 in c:\\python39\\lib\\site-packages (from matplotlib>=3.2.2->-r requirements.txt (line 7)) (5.10.2)\n",
      "Requirement already satisfied: contourpy>=1.0.1 in c:\\python39\\lib\\site-packages (from matplotlib>=3.2.2->-r requirements.txt (line 7)) (1.0.7)\n",
      "Requirement already satisfied: python-dateutil>=2.7 in c:\\python39\\lib\\site-packages (from matplotlib>=3.2.2->-r requirements.txt (line 7)) (2.8.2)\n",
      "Requirement already satisfied: certifi>=2017.4.17 in c:\\python39\\lib\\site-packages (from requests>=2.23.0->-r requirements.txt (line 13)) (2022.9.24)\n",
      "Requirement already satisfied: idna<4,>=2.5 in c:\\python39\\lib\\site-packages (from requests>=2.23.0->-r requirements.txt (line 13)) (3.4)\n",
      "Requirement already satisfied: urllib3<1.27,>=1.21.1 in c:\\python39\\lib\\site-packages (from requests>=2.23.0->-r requirements.txt (line 13)) (1.26.12)\n",
      "Requirement already satisfied: charset-normalizer~=2.0.0 in c:\\python39\\lib\\site-packages (from requests>=2.23.0->-r requirements.txt (line 13)) (2.0.12)\n",
      "Requirement already satisfied: typing-extensions in c:\\python39\\lib\\site-packages (from torch>=1.7.0->-r requirements.txt (line 16)) (4.3.0)\n",
      "Requirement already satisfied: protobuf>=3.19.6 in c:\\python39\\lib\\site-packages (from tensorboard>=2.4.1->-r requirements.txt (line 22)) (4.21.12)\n",
      "Requirement already satisfied: grpcio>=1.48.2 in c:\\python39\\lib\\site-packages (from tensorboard>=2.4.1->-r requirements.txt (line 22)) (1.51.1)\n",
      "Requirement already satisfied: absl-py>=0.4 in c:\\python39\\lib\\site-packages (from tensorboard>=2.4.1->-r requirements.txt (line 22)) (1.4.0)\n",
      "Requirement already satisfied: tensorboard-plugin-wit>=1.6.0 in c:\\python39\\lib\\site-packages (from tensorboard>=2.4.1->-r requirements.txt (line 22)) (1.8.1)\n",
      "Requirement already satisfied: markdown>=2.6.8 in c:\\python39\\lib\\site-packages (from tensorboard>=2.4.1->-r requirements.txt (line 22)) (3.4.1)\n",
      "Requirement already satisfied: google-auth<3,>=1.6.3 in c:\\python39\\lib\\site-packages (from tensorboard>=2.4.1->-r requirements.txt (line 22)) (2.16.0)\n",
      "Requirement already satisfied: werkzeug>=1.0.1 in c:\\python39\\lib\\site-packages (from tensorboard>=2.4.1->-r requirements.txt (line 22)) (2.0.1)\n",
      "Requirement already satisfied: tensorboard-data-server<0.8.0,>=0.7.0 in c:\\python39\\lib\\site-packages (from tensorboard>=2.4.1->-r requirements.txt (line 22)) (0.7.0)\n",
      "Requirement already satisfied: google-auth-oauthlib<0.5,>=0.4.1 in c:\\python39\\lib\\site-packages (from tensorboard>=2.4.1->-r requirements.txt (line 22)) (0.4.6)\n",
      "Requirement already satisfied: pytz>=2020.1 in c:\\python39\\lib\\site-packages (from pandas>=1.1.4->-r requirements.txt (line 27)) (2022.2.1)\n",
      "Requirement already satisfied: smmap<6,>=3.0.1 in c:\\python39\\lib\\site-packages (from gitdb<5,>=4.0.1->gitpython->-r requirements.txt (line 5)) (5.0.0)\n",
      "Requirement already satisfied: pyasn1-modules>=0.2.1 in c:\\python39\\lib\\site-packages (from google-auth<3,>=1.6.3->tensorboard>=2.4.1->-r requirements.txt (line 22)) (0.2.8)\n",
      "Requirement already satisfied: cachetools<6.0,>=2.0.0 in c:\\python39\\lib\\site-packages (from google-auth<3,>=1.6.3->tensorboard>=2.4.1->-r requirements.txt (line 22)) (5.3.0)\n",
      "Requirement already satisfied: six>=1.9.0 in c:\\python39\\lib\\site-packages (from google-auth<3,>=1.6.3->tensorboard>=2.4.1->-r requirements.txt (line 22)) (1.16.0)\n",
      "Requirement already satisfied: rsa<5,>=3.1.4 in c:\\python39\\lib\\site-packages (from google-auth<3,>=1.6.3->tensorboard>=2.4.1->-r requirements.txt (line 22)) (4.9)\n",
      "Requirement already satisfied: requests-oauthlib>=0.7.0 in c:\\python39\\lib\\site-packages (from google-auth-oauthlib<0.5,>=0.4.1->tensorboard>=2.4.1->-r requirements.txt (line 22)) (1.3.1)\n",
      "Requirement already satisfied: zipp>=3.1.0 in c:\\python39\\lib\\site-packages (from importlib-resources>=3.2.0->matplotlib>=3.2.2->-r requirements.txt (line 7)) (3.13.0)\n",
      "Requirement already satisfied: parso<0.9.0,>=0.8.0 in c:\\python39\\lib\\site-packages (from jedi>=0.16->ipython->-r requirements.txt (line 6)) (0.8.2)\n",
      "Requirement already satisfied: importlib-metadata>=4.4 in c:\\python39\\lib\\site-packages (from markdown>=2.6.8->tensorboard>=2.4.1->-r requirements.txt (line 22)) (6.0.0)\n",
      "Requirement already satisfied: wcwidth in c:\\python39\\lib\\site-packages (from prompt-toolkit!=3.0.0,!=3.0.1,<3.1.0,>=2.0.0->ipython->-r requirements.txt (line 6)) (0.2.5)\n",
      "Requirement already satisfied: pyasn1<0.5.0,>=0.4.6 in c:\\python39\\lib\\site-packages (from pyasn1-modules>=0.2.1->google-auth<3,>=1.6.3->tensorboard>=2.4.1->-r requirements.txt (line 22)) (0.4.8)\n",
      "Requirement already satisfied: oauthlib>=3.0.0 in c:\\python39\\lib\\site-packages (from requests-oauthlib>=0.7.0->google-auth-oauthlib<0.5,>=0.4.1->tensorboard>=2.4.1->-r requirements.txt (line 22)) (3.2.2)\n"
     ]
    },
    {
     "name": "stderr",
     "output_type": "stream",
     "text": [
      "WARNING: You are using pip version 21.2.3; however, version 23.0 is available.\n",
      "You should consider upgrading via the 'C:\\python39\\python.exe -m pip install --upgrade pip' command.\n"
     ]
    }
   ],
   "source": [
    "!pip install -r requirements.txt"
   ]
  },
  {
   "cell_type": "code",
   "execution_count": 8,
   "metadata": {},
   "outputs": [
    {
     "name": "stderr",
     "output_type": "stream",
     "text": [
      "ERROR: Invalid requirement: '+cpu'\n",
      "WARNING: You are using pip version 21.2.3; however, version 23.0 is available.\n",
      "You should consider upgrading via the 'C:\\python39\\python.exe -m pip install --upgrade pip' command.\n"
     ]
    }
   ],
   "source": [
    "!pip3 install torch>=1.7.1 +cpu torchvision>=0.8.2 +cpu -f https://download.pytorch.org/whl/torch_stable.html"
   ]
  },
  {
   "cell_type": "code",
   "execution_count": 9,
   "metadata": {},
   "outputs": [
    {
     "name": "stderr",
     "output_type": "stream",
     "text": [
      "c:\\Users\\Avi\\.conda\\envs\\mlcollab\\lib\\site-packages\\requests\\__init__.py:102: RequestsDependencyWarning: urllib3 (1.26.11) or chardet (5.0.0)/charset_normalizer (2.0.12) doesn't match a supported version!\n",
      "  warnings.warn(\"urllib3 ({}) or chardet ({})/charset_normalizer ({}) doesn't match a supported \"\n",
      "Traceback (most recent call last):\n",
      "  File \"train.py\", line 43, in <module>\n",
      "    import val as validate  # for end-of-epoch mAP\n",
      "  File \"f:\\Computer vision - Object detection\\yolov5\\val.py\", line 39, in <module>\n",
      "    from models.common import DetectMultiBackend\n",
      "  File \"f:\\Computer vision - Object detection\\yolov5\\models\\common.py\", line 29, in <module>\n",
      "    from utils.dataloaders import exif_transpose, letterbox\n",
      "  File \"f:\\Computer vision - Object detection\\yolov5\\utils\\dataloaders.py\", line 25, in <module>\n",
      "    import torchvision\n",
      "ModuleNotFoundError: No module named 'torchvision'\n"
     ]
    }
   ],
   "source": [
    "# training custom dataset\n",
    "!python train.py --img 33 --batch 10 --epochs 30 --data dataset.yaml --weights yolov5.yaml --cache"
   ]
  }
 ],
 "metadata": {
  "kernelspec": {
   "display_name": "mlcollab",
   "language": "python",
   "name": "python3"
  },
  "language_info": {
   "codemirror_mode": {
    "name": "ipython",
    "version": 3
   },
   "file_extension": ".py",
   "mimetype": "text/x-python",
   "name": "python",
   "nbconvert_exporter": "python",
   "pygments_lexer": "ipython3",
   "version": "3.8.13"
  },
  "orig_nbformat": 4,
  "vscode": {
   "interpreter": {
    "hash": "54b3f1729cfb7538ff06089894d77e9ae321ee55b6772555bb97ebde7b0d8561"
   }
  }
 },
 "nbformat": 4,
 "nbformat_minor": 2
}
